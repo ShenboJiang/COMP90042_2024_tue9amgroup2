{
  "cells": [
    {
      "cell_type": "markdown",
      "metadata": {
        "id": "32yCsRUo8H33"
      },
      "source": [
        "# 2024 COMP90042 Project\n",
        "*Make sure you change the file name with your group id.*"
      ]
    },
    {
      "cell_type": "markdown",
      "metadata": {
        "id": "XCybYoGz8YWQ"
      },
      "source": [
        "# Readme\n",
        "*If there is something to be noted for the marker, please mention here.*\n",
        "\n",
        "*If you are planning to implement a program with Object Oriented Programming style, please put those the bottom of this ipynb file*"
      ]
    },
    {
      "cell_type": "markdown",
      "metadata": {
        "id": "6po98qVA8bJD"
      },
      "source": [
        "# 1.DataSet Processing\n",
        "(You can add as many code blocks and text blocks as you need. However, YOU SHOULD NOT MODIFY the section title)"
      ]
    },
    {
      "cell_type": "code",
      "execution_count": 1,
      "metadata": {
        "id": "qvff21Hv8zjk"
      },
      "outputs": [],
      "source": [
        "import json\n",
        "import os\n",
        "\n",
        "def load_data(filename):\n",
        "    \"\"\"Load JSON data from a file.\"\"\"\n",
        "    with open(filename, 'r', encoding='utf-8') as file:\n",
        "        data = json.load(file)\n",
        "    return data\n",
        "\n",
        "def preprocess_data(data):\n",
        "    \"\"\"Extract claims and evidence from the dataset.\"\"\"\n",
        "    processed_data = []\n",
        "    for claim_id, claim_info in data.items():\n",
        "        claim_text = claim_info.get('claim_text', '')\n",
        "        claim_label = claim_info.get('claim_label', None)  # None for unlabelled data\n",
        "        evidences = claim_info.get('evidences', [])\n",
        "        processed_data.append({\n",
        "            'claim_id': claim_id,\n",
        "            'claim_text': claim_text,\n",
        "            'claim_label': claim_label,\n",
        "            'evidences': evidences\n",
        "        })\n",
        "    return processed_data"
      ]
    },
    {
      "cell_type": "code",
      "execution_count": 2,
      "metadata": {},
      "outputs": [
        {
          "name": "stdout",
          "output_type": "stream",
          "text": [
            "Training Data: [{'claim_id': 'claim-1937', 'claim_text': 'Not only is there no scientific evidence that CO2 is a pollutant, higher CO2 concentrations actually help ecosystems support more plant and animal life.', 'claim_label': 'DISPUTED', 'evidences': ['evidence-442946', 'evidence-1194317', 'evidence-12171']}, {'claim_id': 'claim-126', 'claim_text': 'El Niño drove record highs in global temperatures suggesting rise may not be down to man-made emissions.', 'claim_label': 'REFUTES', 'evidences': ['evidence-338219', 'evidence-1127398']}, {'claim_id': 'claim-2510', 'claim_text': 'In 1946, PDO switched to a cool phase.', 'claim_label': 'SUPPORTS', 'evidences': ['evidence-530063', 'evidence-984887']}]\n",
            "Development Data: [{'claim_id': 'claim-752', 'claim_text': '[South Australia] has the most expensive electricity in the world.', 'claim_label': 'SUPPORTS', 'evidences': ['evidence-67732', 'evidence-572512']}, {'claim_id': 'claim-375', 'claim_text': 'when 3 per cent of total annual global emissions of carbon dioxide are from humans and Australia prod\\xaduces 1.3 per cent of this 3 per cent, then no amount of emissions reductio\\xadn here will have any effect on global climate.', 'claim_label': 'NOT_ENOUGH_INFO', 'evidences': ['evidence-996421', 'evidence-1080858', 'evidence-208053', 'evidence-699212', 'evidence-832334']}, {'claim_id': 'claim-1266', 'claim_text': 'This means that the world is now 1C warmer than it was in pre-industrial times', 'claim_label': 'SUPPORTS', 'evidences': ['evidence-889933', 'evidence-694262']}]\n",
            "Test Data: [{'claim_id': 'claim-2967', 'claim_text': 'The contribution of waste heat to the global climate is 0.028 W/m2.', 'claim_label': None, 'evidences': []}, {'claim_id': 'claim-979', 'claim_text': '“Warm weather worsened the most recent five-year drought, which included the driest four-year period on record in terms of statewide precipitation.', 'claim_label': None, 'evidences': []}, {'claim_id': 'claim-1609', 'claim_text': 'Greenland has only lost a tiny fraction of its ice mass.', 'claim_label': None, 'evidences': []}]\n",
            "Evidence Sample: [('evidence-0', 'John Bennet Lawes, English entrepreneur and agricultural scientist'), ('evidence-1', 'Lindberg began his professional career at the age of 16, eventually moving to New York City in 1977.'), ('evidence-2', \"``Boston (Ladies of Cambridge)'' by Vampire Weekend\")]\n"
          ]
        }
      ],
      "source": [
        "# Paths to the data files\n",
        "train_path = os.path.join('data/train-claims.json')\n",
        "dev_path = os.path.join('data/dev-claims.json')\n",
        "test_path = os.path.join('data/test-claims-unlabelled.json')\n",
        "evidence_path = os.path.join('data/evidence.json')\n",
        "\n",
        "# Load the datasets\n",
        "train_data = load_data(train_path)\n",
        "dev_data = load_data(dev_path)\n",
        "test_data = load_data(test_path)\n",
        "evidence_data = load_data(evidence_path)\n",
        "\n",
        "# Preprocess the data\n",
        "train_claims = preprocess_data(train_data)\n",
        "dev_claims = preprocess_data(dev_data)\n",
        "test_claims = preprocess_data(test_data)\n",
        "\n",
        "# Here, evidence_data could be stored differently, depending on the needs of the retrieval system\n",
        "print(\"Training Data:\", train_claims[:3])  # Print the first few entries to verify\n",
        "print(\"Development Data:\", dev_claims[:3])\n",
        "print(\"Test Data:\", test_claims[:3])\n",
        "print(\"Evidence Sample:\", list(evidence_data.items())[:3])  # Print some evidences\n"
      ]
    },
    {
      "cell_type": "markdown",
      "metadata": {
        "id": "1FA2ao2l8hOg"
      },
      "source": [
        "# 2. Model Implementation\n",
        "(You can add as many code blocks and text blocks as you need. However, YOU SHOULD NOT MODIFY the section title)"
      ]
    },
    {
      "cell_type": "code",
      "execution_count": null,
      "metadata": {
        "id": "QIEqDDT78q39"
      },
      "outputs": [],
      "source": []
    },
    {
      "cell_type": "markdown",
      "metadata": {
        "id": "EzGuzHPE87Ya"
      },
      "source": [
        "# 3.Testing and Evaluation\n",
        "(You can add as many code blocks and text blocks as you need. However, YOU SHOULD NOT MODIFY the section title)"
      ]
    },
    {
      "cell_type": "code",
      "execution_count": null,
      "metadata": {
        "id": "6ZVeNYIH9IaL"
      },
      "outputs": [],
      "source": []
    },
    {
      "cell_type": "markdown",
      "metadata": {
        "id": "mefSOe8eTmGP"
      },
      "source": [
        "## Object Oriented Programming codes here\n",
        "\n",
        "*You can use multiple code snippets. Just add more if needed*"
      ]
    }
  ],
  "metadata": {
    "colab": {
      "provenance": [],
      "toc_visible": true
    },
    "kernelspec": {
      "display_name": "Python 3",
      "name": "python3"
    },
    "language_info": {
      "codemirror_mode": {
        "name": "ipython",
        "version": 3
      },
      "file_extension": ".py",
      "mimetype": "text/x-python",
      "name": "python",
      "nbconvert_exporter": "python",
      "pygments_lexer": "ipython3",
      "version": "3.11.2"
    }
  },
  "nbformat": 4,
  "nbformat_minor": 0
}
